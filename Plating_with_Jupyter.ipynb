{
 "cells": [
  {
   "cell_type": "code",
   "execution_count": 1,
   "id": "f246fbda-7811-4cf3-96f1-1f714d427944",
   "metadata": {
    "tags": []
   },
   "outputs": [],
   "source": [
    "a = 1\n",
    "b = 2\n"
   ]
  },
  {
   "cell_type": "code",
   "execution_count": 2,
   "id": "4b420b04-2743-47b9-9a7d-3a27d6c2ecf7",
   "metadata": {},
   "outputs": [],
   "source": [
    "c = a + b"
   ]
  },
  {
   "cell_type": "code",
   "execution_count": 3,
   "id": "036288e3-3b23-4edc-a6a4-0794f35a1748",
   "metadata": {},
   "outputs": [
    {
     "data": {
      "text/plain": [
       "3"
      ]
     },
     "execution_count": 3,
     "metadata": {},
     "output_type": "execute_result"
    }
   ],
   "source": [
    "c"
   ]
  },
  {
   "cell_type": "markdown",
   "id": "69bb6f69-3318-4a2e-b342-40ba1130339b",
   "metadata": {
    "tags": []
   },
   "source": [
    "# Addition Above"
   ]
  },
  {
   "cell_type": "markdown",
   "id": "5f11fa64-3730-47d6-a3d8-2af8e982d168",
   "metadata": {},
   "source": [
    "# Importing Picture Below\n",
    "\n",
    "![](https://encrypted-tbn0.gstatic.com/images?q=tbn:ANd9GcSHb5Nq_i9myF_nxM19XTNK5PljwbUFyB2Ohw&usqp=CAU)"
   ]
  },
  {
   "cell_type": "code",
   "execution_count": null,
   "id": "9de5ae1b-fbf1-4572-84dd-7c6e566088d3",
   "metadata": {},
   "outputs": [],
   "source": []
  }
 ],
 "metadata": {
  "kernelspec": {
   "display_name": "Python 3",
   "language": "python",
   "name": "python3"
  },
  "language_info": {
   "codemirror_mode": {
    "name": "ipython",
    "version": 3
   },
   "file_extension": ".py",
   "mimetype": "text/x-python",
   "name": "python",
   "nbconvert_exporter": "python",
   "pygments_lexer": "ipython3",
   "version": "3.8.8"
  }
 },
 "nbformat": 4,
 "nbformat_minor": 5
}
